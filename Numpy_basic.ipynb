{
  "nbformat": 4,
  "nbformat_minor": 0,
  "metadata": {
    "colab": {
      "provenance": [],
      "authorship_tag": "ABX9TyOb/Yp9G0wCvwhSzKspS2CX",
      "include_colab_link": true
    },
    "kernelspec": {
      "name": "python3",
      "display_name": "Python 3"
    },
    "language_info": {
      "name": "python"
    }
  },
  "cells": [
    {
      "cell_type": "markdown",
      "metadata": {
        "id": "view-in-github",
        "colab_type": "text"
      },
      "source": [
        "<a href=\"https://colab.research.google.com/github/QCSG-Qiskit/Colab-for-QML/blob/main/Numpy_basic.ipynb\" target=\"_parent\"><img src=\"https://colab.research.google.com/assets/colab-badge.svg\" alt=\"Open In Colab\"/></a>"
      ]
    },
    {
      "cell_type": "markdown",
      "source": [
        "##모듈과 패키지"
      ],
      "metadata": {
        "id": "n9Is6BZCNEy1"
      }
    },
    {
      "cell_type": "code",
      "source": [
        "#모듈은 변수, 함수, 클래스를 담고 있는 파일 (.py)\n",
        "#패키지는 여러 모듈을 묶은 것 (폴더)  단순하게 위는 파일이고 아래는 폴더임. 폴더를 패키지라 표현\n",
        "#import 모듈.  모듈을 불러옴\n",
        "#import 모듈1, 모듈2\n",
        "#모듈.변수\n",
        "#모듈.함수() 모듈이 쭉 담고 있는 것을 불러오는 것임\n",
        "#모듈.클래스()\n",
        "#import my\n",
        "#my.a + my.b\n",
        "#my.b\n",
        "#bot.1=my.Robot\n",
        "#my.add() 이런식으로 쓸 수 있음\n",
        "#my.py 이 폴더에 이런게 적혀 있다고 보자\n",
        "#a=1\n",
        "#b=2\n",
        "#class Robot()\n",
        "#def add(a,b)"
      ],
      "metadata": {
        "id": "Yc-Q4yVXNHjL"
      },
      "execution_count": 1,
      "outputs": []
    },
    {
      "cell_type": "code",
      "source": [
        "import math #math라는 모듈임. 같이 딸려서 깔림 colab이 깔려 있어서 좋음. torch는 깔아야 함. colab은 구글 컴퓨터를 쓰기 때문에 쓸 수가 있음\n",
        "print(math.pi)\n",
        "#print(pi) 그냥 pi는 없음 cos, sin도 없음. matlab은 있지만..\n",
        "print(math.sqrt(4)) #sqrt는 제곱근 구해짐"
      ],
      "metadata": {
        "colab": {
          "base_uri": "https://localhost:8080/"
        },
        "id": "0a8TiqA4Nt7p",
        "outputId": "c951b301-c1af-4285-d72c-d850115d827f"
      },
      "execution_count": 4,
      "outputs": [
        {
          "output_type": "stream",
          "name": "stdout",
          "text": [
            "3.141592653589793\n",
            "2.0\n"
          ]
        }
      ]
    },
    {
      "cell_type": "code",
      "source": [
        "import math as m\n",
        "print(m.pi)\n",
        "print(m.sqrt(4)) #math를 m으로 부를 수 있음"
      ],
      "metadata": {
        "colab": {
          "base_uri": "https://localhost:8080/"
        },
        "id": "UrQPpnHON0xj",
        "outputId": "49fd2fc0-f3cc-45ed-fead-40a22d793986"
      },
      "execution_count": 6,
      "outputs": [
        {
          "output_type": "stream",
          "name": "stdout",
          "text": [
            "3.141592653589793\n",
            "2.0\n"
          ]
        }
      ]
    },
    {
      "cell_type": "code",
      "source": [
        "from math import pi, sqrt\n",
        "print(pi)\n",
        "print(sqrt(4)) #math.pi는 오히려 안됨"
      ],
      "metadata": {
        "colab": {
          "base_uri": "https://localhost:8080/"
        },
        "id": "68jQkMJNOv_6",
        "outputId": "8b285a57-7a11-4421-a79c-732ffc069b3d"
      },
      "execution_count": 8,
      "outputs": [
        {
          "output_type": "stream",
          "name": "stdout",
          "text": [
            "3.141592653589793\n",
            "2.0\n"
          ]
        }
      ]
    },
    {
      "cell_type": "code",
      "source": [
        "from math import * # *이 all이란 뜻\n",
        "print(pi)\n",
        "print(sqrt(4))\n",
        "print(sin(pi))"
      ],
      "metadata": {
        "colab": {
          "base_uri": "https://localhost:8080/"
        },
        "id": "bjmhWesGPA5E",
        "outputId": "dc1a2dad-9c69-4817-b939-efc7e1d08acc"
      },
      "execution_count": 11,
      "outputs": [
        {
          "output_type": "stream",
          "name": "stdout",
          "text": [
            "3.141592653589793\n",
            "2.0\n",
            "1.2246467991473532e-16\n"
          ]
        }
      ]
    },
    {
      "cell_type": "code",
      "source": [
        "from math import sqrt as s\n",
        "print(s(4))"
      ],
      "metadata": {
        "colab": {
          "base_uri": "https://localhost:8080/"
        },
        "id": "TrujyvuVPEd1",
        "outputId": "f88f9be5-c2d1-4020-cf6c-c00e8418481a"
      },
      "execution_count": 14,
      "outputs": [
        {
          "output_type": "stream",
          "name": "stdout",
          "text": [
            "2.0\n"
          ]
        }
      ]
    },
    {
      "cell_type": "code",
      "source": [
        "from math import sqrt as s, pi as p\n",
        "print(p)\n",
        "print(s(4))"
      ],
      "metadata": {
        "colab": {
          "base_uri": "https://localhost:8080/"
        },
        "id": "VtovDcjOPV8o",
        "outputId": "1f7f1cdd-482a-4336-d069-cdc796fda7bf"
      },
      "execution_count": 17,
      "outputs": [
        {
          "output_type": "stream",
          "name": "stdout",
          "text": [
            "3.141592653589793\n",
            "2.0\n"
          ]
        }
      ]
    },
    {
      "cell_type": "code",
      "source": [
        "#import 패키지\n",
        "#import 패키지.모듈 #패키지가 여러가지 파일을 가지고 있고, 그걸 import하면 쩜 해서 사용 할 수 있음\n",
        "#import 패키지.모듈1, 패키지.모듈2\n",
        "#패키지.모듈.변수\n",
        "#패키지.모듈.함수()\n",
        "#패키지.모듈.클래스()\n",
        "#폴더 -> 파일 - >함수를 연다는 뜻임"
      ],
      "metadata": {
        "id": "Ld9EoKPlPZ-s"
      },
      "execution_count": 18,
      "outputs": []
    },
    {
      "cell_type": "code",
      "source": [
        "import numpy as np #numpy는 라이브러리라고 해서 패키지와 모듈들을 모아놓음. 폴더 위에 폴더임. (numerical python이어서 numpy임)\n",
        "a=np.array([1,2,3]) #array함수 속에다가 1,2,3이라는 list를 넣어준 것임.\n",
        "print(a)"
      ],
      "metadata": {
        "colab": {
          "base_uri": "https://localhost:8080/"
        },
        "id": "BZfVCRPkQVW8",
        "outputId": "c2daaedf-df8c-4976-ab42-428ba82ceb27"
      },
      "execution_count": 21,
      "outputs": [
        {
          "output_type": "stream",
          "name": "stdout",
          "text": [
            "[1 2 3]\n"
          ]
        }
      ]
    },
    {
      "cell_type": "code",
      "source": [
        "import numpy.random\n",
        "print(numpy.random.randn(3,3)) #Normal distribution, (3,3)은 3행 3열 짜리를 의미"
      ],
      "metadata": {
        "colab": {
          "base_uri": "https://localhost:8080/"
        },
        "id": "aBkluUTIQuTq",
        "outputId": "bab0a050-a67b-4923-bf2b-688f5c233911"
      },
      "execution_count": 27,
      "outputs": [
        {
          "output_type": "stream",
          "name": "stdout",
          "text": [
            "[[-0.99744173 -0.90088041  0.40859998]\n",
            " [-0.12240256  1.06118396 -1.72066911]\n",
            " [-0.53876083  0.71756872  1.63008701]]\n"
          ]
        }
      ]
    },
    {
      "cell_type": "code",
      "source": [
        "import numpy.random as nr\n",
        "print(nr.randn(3,3))"
      ],
      "metadata": {
        "colab": {
          "base_uri": "https://localhost:8080/"
        },
        "id": "s03uWwOQSsdg",
        "outputId": "3802e019-1fe5-4b56-fec2-7739ad936189"
      },
      "execution_count": 29,
      "outputs": [
        {
          "output_type": "stream",
          "name": "stdout",
          "text": [
            "[[ 1.47808454  0.08831133 -0.15104542]\n",
            " [-0.25279429  0.5095186   0.39814661]\n",
            " [ 1.84625972  1.32852799 -0.91173926]]\n"
          ]
        }
      ]
    },
    {
      "cell_type": "code",
      "source": [
        "from numpy.random import randn\n",
        "print(randn(3,3))"
      ],
      "metadata": {
        "colab": {
          "base_uri": "https://localhost:8080/"
        },
        "id": "BTYQaTjdSvMz",
        "outputId": "4d9263a9-9747-460a-da9a-0edb8d6f769e"
      },
      "execution_count": 31,
      "outputs": [
        {
          "output_type": "stream",
          "name": "stdout",
          "text": [
            "[[-0.76718815 -1.11940892  1.06691124]\n",
            " [ 2.09098616  0.02666174  0.00249263]\n",
            " [-0.57498724  0.20731335 -0.48363262]]\n"
          ]
        }
      ]
    },
    {
      "cell_type": "code",
      "source": [
        "from numpy.random import *\n",
        "print(rand(3,3)) #rand는 uniform distribution.음 0과 1에이 균등분포에서 샘플링해옴"
      ],
      "metadata": {
        "colab": {
          "base_uri": "https://localhost:8080/"
        },
        "id": "v-IuIoJLS0Q3",
        "outputId": "ff99b1ac-a2b2-4c3a-fcf6-94b3065cb2ff"
      },
      "execution_count": 34,
      "outputs": [
        {
          "output_type": "stream",
          "name": "stdout",
          "text": [
            "[[0.59562019 0.43971029 0.49285735]\n",
            " [0.3552663  0.31318416 0.22476134]\n",
            " [0.92691001 0.38414401 0.84186366]]\n"
          ]
        }
      ]
    },
    {
      "cell_type": "code",
      "source": [
        "from numpy.random import randn as rn\n",
        "print(rn(3,3))"
      ],
      "metadata": {
        "colab": {
          "base_uri": "https://localhost:8080/"
        },
        "id": "Us3G7YFfS49p",
        "outputId": "91f456a9-b2e5-4b54-959c-cded9a4d73fe"
      },
      "execution_count": 36,
      "outputs": [
        {
          "output_type": "stream",
          "name": "stdout",
          "text": [
            "[[ 0.53911615  0.66281833  0.03443652]\n",
            " [-0.8086671   0.06702322  0.06255777]\n",
            " [-0.58123631  1.52921813 -0.1526921 ]]\n"
          ]
        }
      ]
    },
    {
      "cell_type": "code",
      "source": [
        "from numpy.random import randn as rn, rand as r\n",
        "print(rn(3,3))\n",
        "print(r(3,3))"
      ],
      "metadata": {
        "colab": {
          "base_uri": "https://localhost:8080/"
        },
        "id": "M8epqlGXTGE0",
        "outputId": "5076eb40-1225-46e0-838f-21304c9f0da6"
      },
      "execution_count": 38,
      "outputs": [
        {
          "output_type": "stream",
          "name": "stdout",
          "text": [
            "[[-1.12633347  0.94635722  0.43752597]\n",
            " [ 0.42343916 -1.71160479  0.80152427]\n",
            " [ 1.4348371   0.15304735  0.98780681]]\n",
            "[[0.14259588 0.24409199 0.43412008]\n",
            " [0.04827409 0.91928115 0.48527446]\n",
            " [0.19827883 0.4514574  0.6204364 ]]\n"
          ]
        }
      ]
    },
    {
      "cell_type": "markdown",
      "source": [
        "##numpy 본격적으로"
      ],
      "metadata": {
        "id": "jDms1yd9TP6r"
      }
    },
    {
      "cell_type": "code",
      "source": [
        "import numpy as np\n",
        "a=np.array([1,2,3,4]) #배열을 만들어주는 것. list는 입력으로 들어가는 함수인데 이거랑 다름\n",
        "print(a)\n",
        "print(type(a))\n",
        "print(a.dtype) #a.dtype은 data type. a인스턴스가 가지고 있는 attribute임. 왜 위가아함수가 아니고 클래스지. a.이 되려면 struct라 봐야하나. 이 안에서 클래스를 가지고 뱉었을 수도\n",
        "print(a.shape) #.shape은 80살까지 쓸 것. 숫자 하나 써 있으면 무차원. 네 개가 있으니까 4,가 쓰임\n",
        "b=np.array([1,2,3.1,4])\n",
        "print(b.dtype) #하나만 float으로 바뀔 수가 없어서 네 개가 전부 float로 바뀜 #하나라도 실수면 자동으로 실수 타입으로 바꿔줌\n",
        "print(type(b[0])) #한 숫자에 64인 것임."
      ],
      "metadata": {
        "colab": {
          "base_uri": "https://localhost:8080/"
        },
        "id": "s0aihvEUTRj5",
        "outputId": "36c9797f-82f8-469d-c3a7-1727fbadd47f"
      },
      "execution_count": 48,
      "outputs": [
        {
          "output_type": "stream",
          "name": "stdout",
          "text": [
            "[1 2 3 4]\n",
            "<class 'numpy.ndarray'>\n",
            "int64\n",
            "(4,)\n",
            "float64\n",
            "<class 'numpy.float64'>\n"
          ]
        }
      ]
    },
    {
      "cell_type": "code",
      "source": [
        "a=np.array(2**64-1) #python은 overflow안 남. 알아서 unit로 바꿔줌. 한 숫자가 몇 기가가 될때까지도 다이나믹하게 데이터를 assign함\n",
        "print(a)\n",
        "a.dtype"
      ],
      "metadata": {
        "colab": {
          "base_uri": "https://localhost:8080/"
        },
        "id": "xDD7_uh0TL8q",
        "outputId": "ba686fd5-2c29-4242-f795-08cacd350700"
      },
      "execution_count": 52,
      "outputs": [
        {
          "output_type": "stream",
          "name": "stdout",
          "text": [
            "18446744073709551615\n"
          ]
        },
        {
          "output_type": "execute_result",
          "data": {
            "text/plain": [
              "dtype('uint64')"
            ]
          },
          "metadata": {},
          "execution_count": 52
        }
      ]
    },
    {
      "cell_type": "code",
      "source": [
        "A=np.array([[1,2],[3,4]]) # 이 셀부터는 import numpy as np는 실행 했다 치고 작성\n",
        "#A=np.array([[1,2],[3,4,5]]) #여기부터는 행렬 개념이 들어감, 행렬이어서 각 행에 해당하는 숫자의 개수가 같아야 함. 사이즈가 안 맞으면 에러가 뜸\n",
        "print(A)\n",
        "print(A.shape) #제일 중요한 게 shape\n",
        "print(A.ndim) # 차원의 수\n",
        "print(A.size) # 전체 성분의 수\n",
        "a.size == A.shape[0]*A.shape[1]"
      ],
      "metadata": {
        "colab": {
          "base_uri": "https://localhost:8080/"
        },
        "id": "JuK6bTr1o--O",
        "outputId": "6b284475-9afe-49b7-c1d4-b456daf9238c"
      },
      "execution_count": 61,
      "outputs": [
        {
          "output_type": "stream",
          "name": "stdout",
          "text": [
            "[[1 2]\n",
            " [3 4]]\n",
            "(2, 2)\n",
            "2\n",
            "4\n"
          ]
        },
        {
          "output_type": "execute_result",
          "data": {
            "text/plain": [
              "False"
            ]
          },
          "metadata": {},
          "execution_count": 61
        }
      ]
    },
    {
      "cell_type": "code",
      "source": [
        "print(np.zeros(5))\n",
        "print(np.zeros_like(A)) #A에 맞게 가져가서 0으로 채워줌\n",
        "print(np.ones(5))\n",
        "print(np.zeros((3,3))) #리스트나 튜플로 묶어서 줘라. 하나로 줘야함. #튜플을 입력으로! 그냥 np.zeros(3,3) 으로 만들면 안됨.\n",
        "import torch\n",
        "print(torch.zeros((3,3)))\n",
        "print(np.arange(3,10,2)) #array이라서 arange 임. range랑 같은데 array로 만들어줌\n",
        "print(np.arange(0,1,0.1)) #소수점 가능\n",
        "print(np.linspace(0,1,10, endpoint=False)) # 0에서부터 1포함 10개로 쪼개는 것. endpoint 포함하는 게 디폴트임. 포함하지 않는 게 False로 해야함"
      ],
      "metadata": {
        "colab": {
          "base_uri": "https://localhost:8080/"
        },
        "id": "rcMY8zwWp8A4",
        "outputId": "057b68c6-8ad7-494c-809c-b57805e64869"
      },
      "execution_count": 76,
      "outputs": [
        {
          "output_type": "stream",
          "name": "stdout",
          "text": [
            "[0. 0. 0. 0. 0.]\n",
            "[[0 0]\n",
            " [0 0]]\n",
            "[1. 1. 1. 1. 1.]\n",
            "[[0. 0. 0.]\n",
            " [0. 0. 0.]\n",
            " [0. 0. 0.]]\n",
            "tensor([[0., 0., 0.],\n",
            "        [0., 0., 0.],\n",
            "        [0., 0., 0.]])\n",
            "[3 5 7 9]\n",
            "[0.  0.1 0.2 0.3 0.4 0.5 0.6 0.7 0.8 0.9]\n",
            "[0.  0.1 0.2 0.3 0.4 0.5 0.6 0.7 0.8 0.9]\n"
          ]
        }
      ]
    },
    {
      "cell_type": "code",
      "source": [
        "a= np.array([1,2,3])\n",
        "b= np.array([4,5,6])\n",
        "c = a + b\n",
        "print(c) #드디어! 양 옆으로 길어지는 게 아닌 벡터의 합이 나옴!\n",
        "[1,2,3]+[4,5,6]\n"
      ],
      "metadata": {
        "colab": {
          "base_uri": "https://localhost:8080/"
        },
        "id": "QftKlTzirW6M",
        "outputId": "21115b77-b475-4a71-f768-bed976c06ad2"
      },
      "execution_count": 79,
      "outputs": [
        {
          "output_type": "stream",
          "name": "stdout",
          "text": [
            "[5 7 9]\n"
          ]
        },
        {
          "output_type": "execute_result",
          "data": {
            "text/plain": [
              "[1, 2, 3, 4, 5, 6]"
            ]
          },
          "metadata": {},
          "execution_count": 79
        }
      ]
    },
    {
      "cell_type": "code",
      "source": [
        "A = np.array([[1,2,3],[1,2,3]])\n",
        "B = np.array([[4,5,6],[1,1,1]])\n",
        "C = A+B\n",
        "D = A-B\n",
        "print(C)\n",
        "print(D)\n",
        "print()\n",
        "print(A*B) #곱셈은? 성분끼리의 곱! (Hadamard product) 각각의 곱에 대해 곱해서 값을 뱉어줌. 행렬의 곱 과는 다름.//\n",
        "print(A/B)  #나누기도 마찬가지\n",
        "print(B**2) #곱도 각 성분에 대해 해줌"
      ],
      "metadata": {
        "colab": {
          "base_uri": "https://localhost:8080/"
        },
        "id": "zci0Sbzbr0PP",
        "outputId": "fbbd7930-0648-4fc9-cb23-fa734f47e505"
      },
      "execution_count": 88,
      "outputs": [
        {
          "output_type": "stream",
          "name": "stdout",
          "text": [
            "[[5 7 9]\n",
            " [2 3 4]]\n",
            "[[-3 -3 -3]\n",
            " [ 0  1  2]]\n",
            "\n",
            "[[ 4 10 18]\n",
            " [ 1  2  3]]\n",
            "[[0.25 0.4  0.5 ]\n",
            " [1.   2.   3.  ]]\n",
            "[[16 25 36]\n",
            " [ 1  1  1]]\n"
          ]
        }
      ]
    },
    {
      "cell_type": "code",
      "source": [
        "A = np.array([[1,2],[3,4]])\n",
        "B = np.array([[1,2],[3,4]])\n",
        "\n",
        "print(A*B)\n",
        "print(A@B)"
      ],
      "metadata": {
        "colab": {
          "base_uri": "https://localhost:8080/"
        },
        "id": "-XgK37kBsh2_",
        "outputId": "36062ab9-54af-4a30-8d68-289b38a543bf"
      },
      "execution_count": 90,
      "outputs": [
        {
          "output_type": "stream",
          "name": "stdout",
          "text": [
            "[[ 1  4]\n",
            " [ 9 16]]\n",
            "[[ 7 10]\n",
            " [15 22]]\n"
          ]
        }
      ]
    },
    {
      "cell_type": "markdown",
      "source": [
        "##numpy의 인덱싱과 슬라이싱"
      ],
      "metadata": {
        "id": "6er9IiN1s6dx"
      }
    },
    {
      "cell_type": "code",
      "source": [
        "a=np.array([1,2,3,4,5,6,7,8,9])\n",
        "print(a[0])\n",
        "print(a[1])\n",
        "print(a[-1])\n",
        "print(a[1:4])\n",
        "print(a[7:])\n",
        "print(a[:])"
      ],
      "metadata": {
        "colab": {
          "base_uri": "https://localhost:8080/"
        },
        "id": "8Uz-OYI1s8NN",
        "outputId": "e650b73d-eeb8-4d9b-b5d0-16bbf485fbfe"
      },
      "execution_count": 91,
      "outputs": [
        {
          "output_type": "stream",
          "name": "stdout",
          "text": [
            "1\n",
            "2\n",
            "9\n",
            "[2 3 4]\n",
            "[8 9]\n",
            "[1 2 3 4 5 6 7 8 9]\n"
          ]
        }
      ]
    },
    {
      "cell_type": "code",
      "source": [
        "#행렬에 대한 인덱싱과 슬라이싱\n",
        "A=np.array([[1,2,3,],[4,5,6,],[7,8,9]])\n",
        "print(A[0]) #0번째 행을 가져옴. 리스트 속에 리스트라고 생각해도 0번째 리스트를 가져온다고 해도 맞음\n",
        "print(A[-1])\n",
        "print(A[1:])\n",
        "print(A[:])\n",
        "print(A[0][2])\n",
        "print(A[0,2]) #<<이건 리스트에서는 안 되는거고, numpy에서만 되는 것임\n",
        "B=[[1,2,3,4,],[5,6,7,8]]\n",
        "print(B)\n",
        "print(B[0][2])\n",
        "#print(B[0,2]) #error!\n",
        "print(A[1,:]) #,다음은 그 다음 디멘전을 보겠다는 뜻임. 1행, 전부이니까 위에 A[1:] 하는거랑 같은 것임.\n",
        "print(A[1,0:3:2]) #0부터 3까지 2 간격.\n",
        "print(A[:,2]) #전부, 2열"
      ],
      "metadata": {
        "colab": {
          "base_uri": "https://localhost:8080/"
        },
        "id": "KdVW2cacs31W",
        "outputId": "769327db-f299-4298-c9a4-2d446940bdec"
      },
      "execution_count": 103,
      "outputs": [
        {
          "output_type": "stream",
          "name": "stdout",
          "text": [
            "[1 2 3]\n",
            "[7 8 9]\n",
            "[[4 5 6]\n",
            " [7 8 9]]\n",
            "[[1 2 3]\n",
            " [4 5 6]\n",
            " [7 8 9]]\n",
            "3\n",
            "3\n",
            "[[1, 2, 3, 4], [5, 6, 7, 8]]\n",
            "3\n",
            "[4 5 6]\n",
            "[4 6]\n",
            "[3 6 9]\n"
          ]
        }
      ]
    },
    {
      "cell_type": "code",
      "source": [
        "#boolean 인덱싱 #numpy에서는 안 되는데 됨\n",
        "a=[1,2,3,4,5,3,3] #a 안에 3을 찾고 싶음. 100으로 바꾸고 싶음\n",
        "a==3 #false가 나옴. 3이라는 integer와 list\n",
        "print(a==3) #여러개 값 들어있는 리스트랑 3 달랑 하나랑 같냐? 다르다!\n",
        "A=np.array([[1,2,3,4],[5,3,7,3]])\n",
        "print(A==3) #리스트와 달리 각 요소에 대해 비교해줌\n",
        "A[A==3] #얘를 가지고 인덱싱을 할 수 있음. 대괄호를 썼다면 인덱싱을 하겠단 것임\n",
        "print(A[A==3]) #3이 true인 지점을 indexing한다는 뜻임. True, False가 담긴 행렬로 인덱싱 가능!\n",
        "#2행 4열에서 A는 3이라는 게 어디있는 지 찾아달라고 했을 때 리스트로 333이 나왔는데, 이게 무슨 의미인가요? 여기 True에 있는 값들만 데리고 온 것임\n",
        "#그러니까 3 3 3 세 개가 있단 뜻일까요? 주소도 같이 물고 있음. 이걸 바꿔보면 알 수 있음\n",
        "\n",
        "print(np.array([A[0,2],A[1,1],A[1,-1]])) # 결과값을 보여주는데, 주소를 안 보여주는 것임\n",
        "\n",
        "A[A==3] = 100\n",
        "print(A) #이걸 보면 3이 있는 값이 100으로 바뀌어 있음. 조건문과 같이 있다고 봐야함. 리스트라고 하면\n",
        "#[i for i in for j in A if i==3]등.. 그런데 위에서는 조건문과 함께 들어가있어서 강력함.\n",
        "#true false로 boolean indexing까지 된다는 점에서 파워풀함. 3과 같은 애를 100으로 바꿔줘.\n",
        "\n",
        "A=np.array([[1,2],[3,4],[5,6],[7,8]])\n",
        "B=np.array([True,False,False,True])\n",
        "\n",
        "A[B,:] #이 위치에 대해 True False가 있으면 그 행에 대해서 0번째 3번째 행을 가져오게 되어있음. 0행 3행 슬라이싱 할 때 쓸 수 있음. #참고로 그냥 리스트여도 됨\n",
        "\n",
        "b=np.array([1,2,3,4])\n",
        "print(b)\n",
        "print(b[[True, True, False, False]]) #인덱싱 할 때 boolean으로 함.\n",
        "\n",
        "c=[1,2,3,4]\n",
        "#c[[True,True,False,False]] #error!"
      ],
      "metadata": {
        "colab": {
          "base_uri": "https://localhost:8080/"
        },
        "id": "oQMLeZXYuKVO",
        "outputId": "443ce67e-d41f-4f67-f65c-6cef0d185a51"
      },
      "execution_count": 121,
      "outputs": [
        {
          "output_type": "stream",
          "name": "stdout",
          "text": [
            "False\n",
            "[[False False  True False]\n",
            " [False  True False  True]]\n",
            "[3 3 3]\n",
            "[3 3 3]\n",
            "[[  1   2 100   4]\n",
            " [  5 100   7 100]]\n",
            "[1 2 3 4]\n",
            "[1 2]\n"
          ]
        }
      ]
    },
    {
      "cell_type": "code",
      "source": [
        "#3차원 행렬 인덱싱\n",
        "A=np.array([[[0,1,2,3],[4,5,6,7],[8,9,10,11]],[[12,13,14,15],[16,17,18,19],[20,21,22,23]]])\n",
        "print(A)\n",
        "print(A.shape) #대괄호가 하나 늘마나면 왼쪽 shape 값이 추가가 된다.\n",
        "print(A[0,1,2]). #여기서 왜 6이 나오지"
      ],
      "metadata": {
        "colab": {
          "base_uri": "https://localhost:8080/"
        },
        "id": "giMDFG224_FA",
        "outputId": "42e27c17-519a-4244-8ec5-b0f76ed95d48"
      },
      "execution_count": 122,
      "outputs": [
        {
          "output_type": "stream",
          "name": "stdout",
          "text": [
            "[[[ 0  1  2  3]\n",
            "  [ 4  5  6  7]\n",
            "  [ 8  9 10 11]]\n",
            "\n",
            " [[12 13 14 15]\n",
            "  [16 17 18 19]\n",
            "  [20 21 22 23]]]\n",
            "(2, 3, 4)\n",
            "6\n"
          ]
        }
      ]
    },
    {
      "cell_type": "markdown",
      "source": [
        "#numpy의 여러 함수들"
      ],
      "metadata": {
        "id": "_nuiIas65gQK"
      }
    },
    {
      "cell_type": "code",
      "source": [
        "A=np.random.randn(3,3)\n",
        "B=np.random.rand(3,3)\n",
        "print(A)\n",
        "print(B)\n",
        "print(A[A[:,0]<0]) #0 번째 열이 음수인 행들을 가져오는 것임\n"
      ],
      "metadata": {
        "colab": {
          "base_uri": "https://localhost:8080/"
        },
        "id": "guPQM6Oc5h2B",
        "outputId": "8cfd3201-ca25-4a12-b1b3-55d5948002d3"
      },
      "execution_count": 129,
      "outputs": [
        {
          "output_type": "stream",
          "name": "stdout",
          "text": [
            "[[ 0.02084184 -0.03537606 -1.71921512]\n",
            " [ 0.223342    0.59540513  0.07884373]\n",
            " [ 0.83001831  0.56685353  0.10395138]]\n",
            "[[0.4491909  0.86176647 0.92654936]\n",
            " [0.59771857 0.32397891 0.49539269]\n",
            " [0.03320396 0.26607972 0.2574436 ]]\n",
            "[]\n"
          ]
        }
      ]
    },
    {
      "cell_type": "code",
      "source": [
        "A=np.random.randn(3,3)\n",
        "print(A)\n",
        "print(np.abs(A))\n",
        "print(np.sqrt(np.abs(A))) #각각에 대해 sqrt를 취함\n",
        "print(np.exp(np.abs(A)))\n",
        "print(np.log(np.exp(1))) #np.exp(1)=e^1\n",
        "print(np.round(A)) #반올림\n",
        "print(np.round(A,2))"
      ],
      "metadata": {
        "colab": {
          "base_uri": "https://localhost:8080/"
        },
        "id": "otywKa6C51Th",
        "outputId": "6409af1a-906a-4e4d-bd3d-7d58a72c1854"
      },
      "execution_count": 136,
      "outputs": [
        {
          "output_type": "stream",
          "name": "stdout",
          "text": [
            "[[ 0.54874317  1.225498   -0.36768802]\n",
            " [ 1.70244062 -0.7425555   0.85897701]\n",
            " [ 0.89565568 -0.71070889 -0.18126143]]\n",
            "[[0.54874317 1.225498   0.36768802]\n",
            " [1.70244062 0.7425555  0.85897701]\n",
            " [0.89565568 0.71070889 0.18126143]]\n",
            "[[0.74077201 1.10702213 0.60637284]\n",
            " [1.30477608 0.8617166  0.92681013]\n",
            " [0.94639087 0.84303552 0.42574808]]\n",
            "[[1.73107597 3.40586178 1.44439134]\n",
            " [5.48732355 2.10129852 2.36074444]\n",
            " [2.44894097 2.03543364 1.19872852]]\n",
            "1.0\n",
            "[[ 1.  1. -0.]\n",
            " [ 2. -1.  1.]\n",
            " [ 1. -1. -0.]]\n",
            "[[ 0.55  1.23 -0.37]\n",
            " [ 1.7  -0.74  0.86]\n",
            " [ 0.9  -0.71 -0.18]]\n"
          ]
        }
      ]
    },
    {
      "cell_type": "code",
      "source": [
        "print(np.sin(np.pi/6))\n",
        "print(np.cos(np.pi/3))\n",
        "print(np.tanh(-10))"
      ],
      "metadata": {
        "colab": {
          "base_uri": "https://localhost:8080/"
        },
        "id": "5SCXTIhf8QpM",
        "outputId": "970a9421-968f-4a68-e4f6-f46a7f12d160"
      },
      "execution_count": 139,
      "outputs": [
        {
          "output_type": "stream",
          "name": "stdout",
          "text": [
            "0.49999999999999994\n",
            "0.5000000000000001\n",
            "-0.9999999958776927\n"
          ]
        }
      ]
    },
    {
      "cell_type": "code",
      "source": [
        "np.nan #not a number\n",
        "#np.log(-1)\n",
        "print(np.isnan([1,2,np.nan,3,4]))\n",
        "print(np.isinf([1,2,3,4,np.inf]))"
      ],
      "metadata": {
        "colab": {
          "base_uri": "https://localhost:8080/"
        },
        "id": "nZftB8Lt8hKh",
        "outputId": "950f5aae-ac81-4c6e-c194-763ae7b2e07a"
      },
      "execution_count": 143,
      "outputs": [
        {
          "output_type": "stream",
          "name": "stdout",
          "text": [
            "[False False  True False False]\n",
            "[False False False False  True]\n"
          ]
        }
      ]
    },
    {
      "cell_type": "code",
      "source": [
        "A=np.random.rand(3,4)\n",
        "print(A)\n",
        "print(np.max(A))\n",
        "print(np.max(A,axis=0)) #axis가 0인 부분이 축소가 된다. 3개 애들 중에서 가장 큰 것을 비교하는 것임\n",
        "print(np.max(A,axis=1)) #axis가 1이면 네 개에 대해 비교를 하는 것임.\n",
        "print(np.max(A,axis=0, keepdims=True))\n",
        "print(np.max(A,axis=1, keepdims=True))  #마찬가지로 min에 대해서도 할 수 있음\n",
        "print(np.argmax(A))\n",
        "print(np.argmax(A,axis=0)) #각 열에서 가장 큰 애가 존재하는 인덱스\n",
        "print(np.argmax(A,axis=1)) #각 행에서 가장 큰 애가 존재하는 인덱스"
      ],
      "metadata": {
        "colab": {
          "base_uri": "https://localhost:8080/"
        },
        "id": "kuS6QsWh8y5o",
        "outputId": "0001d326-70ba-472d-9993-467b3a6019f9"
      },
      "execution_count": 150,
      "outputs": [
        {
          "output_type": "stream",
          "name": "stdout",
          "text": [
            "[[0.53361916 0.27397546 0.44159263 0.84247935]\n",
            " [0.99094455 0.627521   0.81190205 0.22287396]\n",
            " [0.29239204 0.37124536 0.58796856 0.48748855]]\n",
            "0.9909445515688062\n",
            "[0.99094455 0.627521   0.81190205 0.84247935]\n",
            "[0.84247935 0.99094455 0.58796856]\n",
            "[[0.99094455 0.627521   0.81190205 0.84247935]]\n",
            "[[0.84247935]\n",
            " [0.99094455]\n",
            " [0.58796856]]\n",
            "4\n",
            "[1 1 1 0]\n",
            "[3 0 2]\n"
          ]
        }
      ]
    },
    {
      "cell_type": "code",
      "source": [
        "a=np.random.randn(6,1)\n",
        "print(a)\n",
        "a_sorted=np.sort(a,axis=0)\n",
        "print(a_sorted) #오름차순으로 되어있음\n",
        "print(np.flipud(a_sorted)) #내림차순으로 정리"
      ],
      "metadata": {
        "colab": {
          "base_uri": "https://localhost:8080/"
        },
        "id": "k0HAi0XV9_td",
        "outputId": "9f02a6c9-7b35-48bb-fe15-7cb03bb29051"
      },
      "execution_count": 154,
      "outputs": [
        {
          "output_type": "stream",
          "name": "stdout",
          "text": [
            "[[ 0.16905384]\n",
            " [-0.81925873]\n",
            " [-1.65522534]\n",
            " [ 0.48832335]\n",
            " [-1.22628318]\n",
            " [ 0.33967053]]\n",
            "[[-1.65522534]\n",
            " [-1.22628318]\n",
            " [-0.81925873]\n",
            " [ 0.16905384]\n",
            " [ 0.33967053]\n",
            " [ 0.48832335]]\n",
            "[[ 0.48832335]\n",
            " [ 0.33967053]\n",
            " [ 0.16905384]\n",
            " [-0.81925873]\n",
            " [-1.22628318]\n",
            " [-1.65522534]]\n"
          ]
        }
      ]
    },
    {
      "cell_type": "code",
      "source": [
        "A=np.random.randn(3,4)\n",
        "print(A)\n",
        "print(np.sum(A))\n",
        "print(np.sum(A,axis=1))\n",
        "print(np.sum(A,axis=1, keepdims=True)) #3행 1열짜리 2D array가 나옴\n",
        "print(np.mean(A,axis=1))\n",
        "print(np.mean(A,axis=1,keepdims=True))\n",
        "print(np.std(A)) #standard deviation 표준 편차"
      ],
      "metadata": {
        "colab": {
          "base_uri": "https://localhost:8080/"
        },
        "id": "d6fIMZCE-LHd",
        "outputId": "9db4ba0a-d10c-4cb0-9088-b911b2504513"
      },
      "execution_count": 157,
      "outputs": [
        {
          "output_type": "stream",
          "name": "stdout",
          "text": [
            "[[-0.91024095  1.26468901  0.63870184  1.0035797 ]\n",
            " [ 0.64890715  1.26098678 -0.4979828  -0.60914111]\n",
            " [ 1.23296394 -0.58852729 -0.97634148  0.91507398]]\n",
            "3.382668771166136\n",
            "[1.9967296  0.80277001 0.58316915]\n",
            "[[1.9967296 ]\n",
            " [0.80277001]\n",
            " [0.58316915]]\n",
            "[0.4991824  0.2006925  0.14579229]\n",
            "[[0.4991824 ]\n",
            " [0.2006925 ]\n",
            " [0.14579229]]\n",
            "0.8744963911534511\n"
          ]
        }
      ]
    },
    {
      "cell_type": "code",
      "source": [
        "A=np.random.randint(1,5,size=(12,)) #size(12,1,1) 하면 3차원이 됨\n",
        "print(A)\n",
        "#1부터 5 미만까지 랜덤하게. integer만. size만 12개.\n",
        "print(A.shape)\n",
        "B=A.reshape(2,2,3)\n",
        "print(B) #B는 12개를 2행 3열짜리로 만들어줌. 2행 3열짜리가 두 묶음 있단 말임.\n",
        "print(B.ndim) # 3 차원 행렬이다"
      ],
      "metadata": {
        "colab": {
          "base_uri": "https://localhost:8080/"
        },
        "id": "6aCXBIWn-ofj",
        "outputId": "2c8e8683-094d-461a-8f93-e44cdc232a38"
      },
      "execution_count": 163,
      "outputs": [
        {
          "output_type": "stream",
          "name": "stdout",
          "text": [
            "[2 4 3 4 4 1 1 2 3 1 1 1]\n",
            "(12,)\n",
            "[[[2 4 3]\n",
            "  [4 4 1]]\n",
            "\n",
            " [[1 2 3]\n",
            "  [1 1 1]]]\n",
            "3\n"
          ]
        }
      ]
    },
    {
      "cell_type": "code",
      "source": [
        "#내적을 표현하는 여러가지 방법\n",
        "a=np.array([1,2,3])\n",
        "b=np.array([2,2,1])\n",
        "a=a.reshape(3,1)\n",
        "b=b.reshape(3,1)\n",
        "#print(a@b) 하면 안 됨.\n",
        "print(a.transpose()@b) #a도 b도 열벡터로 바꾼 다음. a를 transpose한 다음 곱해준 것. reshape 을 먼저 해주는 게 핵심\n",
        "print(a.T@b) #T는 transpose라는 것임.\n",
        "\n",
        "A=np.random.randn(4,3,2)\n",
        "print(A.transpose(2,1,0).shape)\n"
      ],
      "metadata": {
        "colab": {
          "base_uri": "https://localhost:8080/"
        },
        "id": "p5knbtcB_iKO",
        "outputId": "92b7be52-5121-4b03-badf-2d3fe759322e"
      },
      "execution_count": 171,
      "outputs": [
        {
          "output_type": "stream",
          "name": "stdout",
          "text": [
            "[[9]]\n",
            "[[9]]\n",
            "(2, 3, 4)\n"
          ]
        }
      ]
    },
    {
      "cell_type": "code",
      "source": [
        "A=np.arange(20)\n",
        "print(A)\n",
        "print(A.reshape(4,5))\n",
        "print(A.reshape(4,-1).shape) #4개 행이 될 수 있도록 열의 수를 맞춰라 이런 뜻임.\n",
        "print(A.reshape(2,5,-1).shape)\n",
        "print(A.reshape(1,-1).shape) #2차원 행 벡터를 만드는 것\n",
        "print(A.reshape(-1,1).shape) #2차원 열 벡터를 만드는 것"
      ],
      "metadata": {
        "colab": {
          "base_uri": "https://localhost:8080/"
        },
        "id": "P4qyeLHiAtE2",
        "outputId": "aa2d63f3-b7c0-4040-e40a-ecedc5ea6ee7"
      },
      "execution_count": 178,
      "outputs": [
        {
          "output_type": "stream",
          "name": "stdout",
          "text": [
            "[ 0  1  2  3  4  5  6  7  8  9 10 11 12 13 14 15 16 17 18 19]\n",
            "[[ 0  1  2  3  4]\n",
            " [ 5  6  7  8  9]\n",
            " [10 11 12 13 14]\n",
            " [15 16 17 18 19]]\n",
            "(4, 5)\n",
            "(2, 5, 2)\n",
            "(1, 20)\n",
            "(20, 1)\n"
          ]
        }
      ]
    },
    {
      "cell_type": "code",
      "source": [
        "x=np.random.randn(2,3,4,5,6)\n",
        "print(x[1,2,:,:,:].shape) #좀 비효율적인데..\n",
        "print(x[1,2,...].shape) #x[1,2,...]은 x[1,2,:,:,:] 와 같음\n",
        "print(x[...,3].shape)\n",
        "print(x[1,:,:,3,:].shape) # 가운데에도 들어갈 수 있는데, 생각을 할 수 있어야 채워줌"
      ],
      "metadata": {
        "colab": {
          "base_uri": "https://localhost:8080/"
        },
        "id": "srE7-ryGBptf",
        "outputId": "784cfc27-4da7-4924-96c1-e14176babc07"
      },
      "execution_count": 182,
      "outputs": [
        {
          "output_type": "stream",
          "name": "stdout",
          "text": [
            "(4, 5, 6)\n",
            "(4, 5, 6)\n",
            "(2, 3, 4, 5)\n",
            "(3, 4, 6)\n"
          ]
        }
      ]
    },
    {
      "cell_type": "code",
      "source": [
        "A=np.ones((2,2))\n",
        "B=np.zeros((2,2))\n",
        "C=np.hstack([A,B]) #horizontal stack을 쌓는 것임\n",
        "D=np.vstack([A,B])\n",
        "E=np.block([A,B])\n",
        "F=np.block([[A],[B]])\n",
        "print(C)\n",
        "print(D)\n",
        "print(E)\n",
        "print(F)"
      ],
      "metadata": {
        "colab": {
          "base_uri": "https://localhost:8080/"
        },
        "id": "Z7x2A1cEDEDj",
        "outputId": "99d6cabd-a901-4be6-c756-2103109a05c5"
      },
      "execution_count": 188,
      "outputs": [
        {
          "output_type": "stream",
          "name": "stdout",
          "text": [
            "[[1. 1. 0. 0.]\n",
            " [1. 1. 0. 0.]]\n",
            "[[1. 1.]\n",
            " [1. 1.]\n",
            " [0. 0.]\n",
            " [0. 0.]]\n",
            "[[1. 1. 0. 0.]\n",
            " [1. 1. 0. 0.]]\n",
            "[[1. 1.]\n",
            " [1. 1.]\n",
            " [0. 0.]\n",
            " [0. 0.]]\n"
          ]
        }
      ]
    },
    {
      "cell_type": "code",
      "source": [
        "A=np.random.randn(1,1,1,3,1,1,4,1)\n",
        "#print(A)\n",
        "print(A.shape)\n",
        "print(A.squeeze().shape) #내가 원하는 1만 없앨 수도 있음\n",
        "print(A.squeeze(axis=(0,2,4,5)).shape) #squeeze가 짜낸다는거. 0, 2, 4, 5 에 해당하는 1을 없애서 새로운 행을 만들어줌"
      ],
      "metadata": {
        "colab": {
          "base_uri": "https://localhost:8080/"
        },
        "id": "BPskmrMkDn0f",
        "outputId": "84ae9da5-7a5f-4193-eec4-8e01640a2485"
      },
      "execution_count": 192,
      "outputs": [
        {
          "output_type": "stream",
          "name": "stdout",
          "text": [
            "(1, 1, 1, 3, 1, 1, 4, 1)\n",
            "(3, 4)\n",
            "(1, 3, 4, 1)\n"
          ]
        }
      ]
    },
    {
      "cell_type": "code",
      "source": [
        "A=np.random.randn(3,4)\n",
        "A1 = A[np.newaxis,...]\n",
        "print(A1.shape) #3,4 였는데, 1이 추가됨. 땡땡을 놨기 때문에 3,4가 땡땡에 나오고 새로운 axis가 추가된것임. np.newaixs is None <- True\n",
        "A2 = A[..., np.newaxis]\n",
        "print(A2.shape)\n",
        "A3 = A[:,np.newaxis,:]\n",
        "print(A3.shape)\n",
        "A1 = np.expand_dims(A,axis=0)\n",
        "print(A1.shape) #3,4 였는데, 1이 추가됨. 땡땡을 놨기 때문에 3,4가 땡땡에 나오고 새로운 axis가 추가된것임. np.newaixs is None <- True\n",
        "A2 = np.expand_dims(A,axis=1)\n",
        "print(A2.shape)\n",
        "A3 = np.expand_dims(A,axis=2)\n",
        "print(A3.shape)\n",
        "A1=A.reshape(1,3,4)\n",
        "print(A1.shape)\n",
        "A2=A.reshape(3,4,1)\n",
        "print(A2.shape)\n",
        "A3=A.reshape(3,1,4)\n",
        "print(A3.shape)\n",
        "#어떤쪽에 많이 활용될까.. 뒤에 그림을 그릴건데, 그림을 그릴 때 차원이 안 맞으면 안됨"
      ],
      "metadata": {
        "colab": {
          "base_uri": "https://localhost:8080/"
        },
        "id": "IlkZ1zqWD_Oy",
        "outputId": "af2cdeef-4a41-4d69-a540-ae8ce62a7ad6"
      },
      "execution_count": 204,
      "outputs": [
        {
          "output_type": "stream",
          "name": "stdout",
          "text": [
            "(1, 3, 4)\n",
            "(3, 4, 1)\n",
            "(3, 1, 4)\n",
            "(1, 3, 4)\n",
            "(3, 1, 4)\n",
            "(3, 4, 1)\n",
            "(1, 3, 4)\n",
            "(3, 4, 1)\n",
            "(3, 1, 4)\n"
          ]
        }
      ]
    },
    {
      "cell_type": "code",
      "source": [
        "#plt.imshow(s)\n",
        "#shape = (~,~) #흑백이라면 딱 두개만. 그럴때 스퀴즈를 써줌\n",
        "#(10,10) #이런 데이터가 있을 때 딥러닝에 넣며거면 반드시 (1,10,10) 으로 넣하줘야함. (개수, 행, 렬) 로 들어감. 무조건 맨 앞에는 개수가 들어가야 함\n",
        "#(2,3,5) #3행 5열의 2개 값이 들어감\n",
        "#(10,10) -> (1,10,10) #딥러닝 할 때 shape을 오른쪽으로 바꿔주고, 이게 왼쪽으로 가는 건 squeeze, 오른쪽으로 가는 건 newaxis, expand임"
      ],
      "metadata": {
        "id": "jut_we1hEOVL"
      },
      "execution_count": 206,
      "outputs": []
    },
    {
      "cell_type": "code",
      "source": [],
      "metadata": {
        "id": "USxbHghVFwC1"
      },
      "execution_count": null,
      "outputs": []
    }
  ]
}